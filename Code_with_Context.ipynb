{
 "cells": [
  {
   "cell_type": "markdown",
   "id": "1b0d2fae",
   "metadata": {},
   "source": [
    "# Sentiment Analysis Basis Code "
   ]
  },
  {
   "cell_type": "markdown",
   "id": "73979a04",
   "metadata": {},
   "source": [
    "In this sentiment analysis we will use something called functions, which are a block of code that only runs when it is explicitly \"called.\" It is useful when repeating the same task. In this way, we will only need to write one line of code to \"call\" each function instead of re-writing a whole block of code.  "
   ]
  },
  {
   "cell_type": "markdown",
   "id": "4f7a274c",
   "metadata": {},
   "source": [
    "### Basic structure of a function "
   ]
  },
  {
   "cell_type": "markdown",
   "id": "032a5776",
   "metadata": {},
   "source": [
    "Note: Anything after \"#\" is a comment, which will have a blue-green color. It does not affect the code, which is in black and other colors. "
   ]
  },
  {
   "cell_type": "code",
   "execution_count": null,
   "id": "2d29bcbc",
   "metadata": {},
   "outputs": [],
   "source": [
    "def function_name(parameters):\n",
    "    \n",
    "    #Body of function \n",
    "    \n",
    "    return result"
   ]
  },
  {
   "cell_type": "markdown",
   "id": "9c30bd32",
   "metadata": {},
   "source": [
    "As we can see the example above, the basic structure starts with the keyword \"def\" followed by the function's name and a parenthesis with any parameters (input elements; essentially, what you change when calling the function). The line concludes with a colon \":\"\n",
    "\n",
    "The body of the function is indented; the \"return\" statement allows the function to send back a result or value. \n",
    "\n",
    "Here is an another example below. In this example, we add three to a number, in this case, represented by the letter x.  "
   ]
  },
  {
   "cell_type": "code",
   "execution_count": 1,
   "id": "3150635e",
   "metadata": {},
   "outputs": [],
   "source": [
    "def add(x):\n",
    "    \n",
    "    y = x + 3\n",
    "    \n",
    "    return y "
   ]
  },
  {
   "cell_type": "markdown",
   "id": "9219c9fc",
   "metadata": {},
   "source": [
    "Now, let's see how to call a function and how to add the parameters. \n",
    "\n",
    "Simply write the name of the function and then the parameters in parenthesis, like in the examples below."
   ]
  },
  {
   "cell_type": "code",
   "execution_count": 2,
   "id": "16a9a681",
   "metadata": {
    "scrolled": true
   },
   "outputs": [
    {
     "data": {
      "text/plain": [
       "4"
      ]
     },
     "execution_count": 2,
     "metadata": {},
     "output_type": "execute_result"
    }
   ],
   "source": [
    "add(1)"
   ]
  },
  {
   "cell_type": "code",
   "execution_count": 3,
   "id": "46ca45a0",
   "metadata": {},
   "outputs": [
    {
     "data": {
      "text/plain": [
       "13"
      ]
     },
     "execution_count": 3,
     "metadata": {},
     "output_type": "execute_result"
    }
   ],
   "source": [
    "add(10)"
   ]
  },
  {
   "cell_type": "markdown",
   "id": "15eac479",
   "metadata": {},
   "source": [
    "By changing the parameters, we can see that the result changes accordingly."
   ]
  },
  {
   "cell_type": "markdown",
   "id": "40caea88",
   "metadata": {},
   "source": [
    "Now that you have a basic undertanding of functions and how they work, we can dive into the code. "
   ]
  },
  {
   "cell_type": "markdown",
   "id": "ac862a83",
   "metadata": {},
   "source": [
    "### The Code"
   ]
  },
  {
   "cell_type": "markdown",
   "id": "90e96552",
   "metadata": {},
   "source": [
    "For this code, the functions are already called, you only have to change the parameters inside the parentheses. "
   ]
  },
  {
   "cell_type": "code",
   "execution_count": 4,
   "id": "5f8cd493",
   "metadata": {},
   "outputs": [
    {
     "name": "stderr",
     "output_type": "stream",
     "text": [
      "[nltk_data] Downloading package vader_lexicon to\n",
      "[nltk_data]     /Users/annakarolynepereira/nltk_data...\n",
      "[nltk_data]   Package vader_lexicon is already up-to-date!\n"
     ]
    }
   ],
   "source": [
    "#This code imports a library called csv, from that, we can read a csv file.\n",
    "import csv\n",
    "\n",
    "#sentiment analysis library\n",
    "import nltk\n",
    "\n",
    "#sentiment analyzer inside of nltk \n",
    "nltk.download('vader_lexicon')\n",
    "\n",
    "#importing a module inside of nltk\n",
    "from nltk.sentiment.vader import SentimentIntensityAnalyzer as SIA\n",
    "\n",
    "#creates and manipulates databases\n",
    "import pandas as pd\n",
    "\n",
    "#for data visualization\n",
    "import matplotlib.pyplot as plt\n",
    "import seaborn as sns"
   ]
  },
  {
   "cell_type": "code",
   "execution_count": 5,
   "id": "569ec3c6",
   "metadata": {},
   "outputs": [],
   "source": [
    "def creates_dataframe(file, column_name):\n",
    "\n",
    "    #Creates a list. A list can be created by writing the name of a variable (any name can be used)\n",
    "    #We will store our csv file here, each row of the csv file will be read and stored in a different\n",
    "    #component of the list. \n",
    "\n",
    "    lst = []\n",
    "\n",
    "    #Opens csv file, reads the file, and then attaches each row from the desired column, in this case \"reviewText.\"\n",
    "\n",
    "    with open(file, encoding = 'utf8') as csvfile:\n",
    "        reader = csv.DictReader(csvfile)\n",
    "        for element in reader:\n",
    "            lst.append(element[column_name])\n",
    "\n",
    "    #Initializing an instance of the module we imported, now, we can use \"sia\" to use the module.\n",
    "    sia = SIA ()\n",
    "\n",
    "    #Creating a list with the results \n",
    "    results = []\n",
    "\n",
    "    #Goes through each element in the list with the qualitative data.\n",
    "    for x in lst:\n",
    "            #Creates a dictionary (a \"key\", followed by values) with the polarity scores \n",
    "            pol_score = sia.polarity_scores(x)\n",
    "            #Adds the original line of text to the dictionary \n",
    "            pol_score['lst'] = x\n",
    "            #Adds to the \"results\" list \n",
    "            results.append(pol_score)\n",
    "\n",
    "\n",
    "    #Creates a dataframe\n",
    "    df = pd.DataFrame.from_records(results)\n",
    "\n",
    "    #Creates a column called \"label,\" and then gives each different scores\n",
    "\n",
    "    #First gives all the value 0 (neutral)\n",
    "    df['label'] = 0\n",
    "\n",
    "    #Then if the compoud is 0.2 or more, considers the label as positive (1)\n",
    "    df.loc[df['compound']> 0.2, 'label'] = 1\n",
    "\n",
    "    #If the compound is less than -0.2, considers the label as negative (-1)\n",
    "    df.loc[df['compound']<-0.2, 'label']= -1\n",
    "\n",
    "    #Returns the dataframe\n",
    "    return df"
   ]
  },
  {
   "cell_type": "code",
   "execution_count": 6,
   "id": "1a725833",
   "metadata": {},
   "outputs": [],
   "source": [
    "def bar_graph(df, title):\n",
    "\n",
    "    #The lines below create a graph with the results\n",
    "\n",
    "    #Sets up figure-size\n",
    "    fig, ax = plt.subplots(figsize=(8,8))\n",
    "\n",
    "    #Sets up to show data as percentage \n",
    "    counts = df.label.value_counts(normalize=True)* 100\n",
    "\n",
    "    #Sets up axis, color, and grid-style\n",
    "    sns.barplot(x=counts.index, y=counts, ax=ax, color = 'red').set(title= title)\n",
    "    sns.set_style('whitegrid')\n",
    "\n",
    "    #Adds lables to graph\n",
    "    ax.set_xticklabels(['Negative', 'Neutral','Positive'])\n",
    "    ax.set_ylabel(\"Percentage \")\n",
    "\n",
    "\n",
    "    return plt.show()"
   ]
  },
  {
   "cell_type": "code",
   "execution_count": 7,
   "id": "aaa28707",
   "metadata": {},
   "outputs": [],
   "source": [
    "def counts(df, column):\n",
    "    \n",
    "    #Returns how much positive (1), negative (-1), and neutral (0) data there is.\n",
    "    return df[column].value_counts()"
   ]
  },
  {
   "cell_type": "code",
   "execution_count": 8,
   "id": "3a10887d",
   "metadata": {},
   "outputs": [],
   "source": [
    "def percentage(df, column):\n",
    "\n",
    "    #Returns how much positive (1), negative (-1), and neutral (0) data there is as a percentage.\n",
    "    return df[column].value_counts(normalize=True)*100"
   ]
  },
  {
   "cell_type": "code",
   "execution_count": 9,
   "id": "2a5ec6b2",
   "metadata": {},
   "outputs": [],
   "source": [
    "#If you would like to see how the sentiment analyzer categorizes each comment,\n",
    "#You can use this code to see the top comments in the category desired \n",
    "\n",
    "#Parameters: dataframe, column in which conotations are stored, column in which comments are stored, conotation\n",
    "#(-1, 0, or 1), number of how many top comments you'd like to see \n",
    "def print_top_comments(df, column, column2, conotation, number):\n",
    "    \n",
    "    #Here we create another dataframe, one with only the number of results we'd like to see\n",
    "    filtered_df = df[df[column] == conotation].head(number)\n",
    "    \n",
    "    #We go through each comment in the list and print it,\n",
    "    #Adding a \"-\" in front so it will be easier to see when one ends\n",
    "    for comment in filtered_df[column2]:\n",
    "        print('-' + comment)"
   ]
  },
  {
   "cell_type": "code",
   "execution_count": 10,
   "id": "2053a4f9",
   "metadata": {},
   "outputs": [],
   "source": [
    "#Parameters: dataframe, column in which conotations are stored, column in which comments are stored, conotation\n",
    "#(-1, 0, or 1), number of how many top comments you'd like to see, name you'd like your file to have \n",
    "\n",
    "def save_top_comments_to_file(df, column, column2, conotation, number, file_path):\n",
    "    #Opens and creates a txt file to store the data\n",
    "    with open(file_path, 'a') as file:\n",
    "        #Here we create another dataframe, one with only the number of results we'd like to see\n",
    "        filtered_df = df[df[column] == conotation].head(number)\n",
    "        \n",
    "        # We go through each comment in the list and write it to the file\n",
    "        #Adding a \"-\" in front so it will be easier to see when one ends\n",
    "        for comment in filtered_df[column2]:\n",
    "            file.write('-' + comment + '\\n')"
   ]
  },
  {
   "cell_type": "code",
   "execution_count": 11,
   "id": "579762c4",
   "metadata": {
    "scrolled": true
   },
   "outputs": [
    {
     "data": {
      "text/html": [
       "<div>\n",
       "<style scoped>\n",
       "    .dataframe tbody tr th:only-of-type {\n",
       "        vertical-align: middle;\n",
       "    }\n",
       "\n",
       "    .dataframe tbody tr th {\n",
       "        vertical-align: top;\n",
       "    }\n",
       "\n",
       "    .dataframe thead th {\n",
       "        text-align: right;\n",
       "    }\n",
       "</style>\n",
       "<table border=\"1\" class=\"dataframe\">\n",
       "  <thead>\n",
       "    <tr style=\"text-align: right;\">\n",
       "      <th></th>\n",
       "      <th>neg</th>\n",
       "      <th>neu</th>\n",
       "      <th>pos</th>\n",
       "      <th>compound</th>\n",
       "      <th>lst</th>\n",
       "      <th>label</th>\n",
       "    </tr>\n",
       "  </thead>\n",
       "  <tbody>\n",
       "    <tr>\n",
       "      <th>0</th>\n",
       "      <td>0.688</td>\n",
       "      <td>0.312</td>\n",
       "      <td>0.000</td>\n",
       "      <td>-0.2960</td>\n",
       "      <td>No issues.</td>\n",
       "      <td>-1</td>\n",
       "    </tr>\n",
       "    <tr>\n",
       "      <th>1</th>\n",
       "      <td>0.075</td>\n",
       "      <td>0.925</td>\n",
       "      <td>0.000</td>\n",
       "      <td>-0.2960</td>\n",
       "      <td>Purchased this for my device, it worked as adv...</td>\n",
       "      <td>-1</td>\n",
       "    </tr>\n",
       "    <tr>\n",
       "      <th>2</th>\n",
       "      <td>0.077</td>\n",
       "      <td>0.923</td>\n",
       "      <td>0.000</td>\n",
       "      <td>-0.3089</td>\n",
       "      <td>it works as expected. I should have sprung for...</td>\n",
       "      <td>-1</td>\n",
       "    </tr>\n",
       "    <tr>\n",
       "      <th>3</th>\n",
       "      <td>0.000</td>\n",
       "      <td>0.909</td>\n",
       "      <td>0.091</td>\n",
       "      <td>0.7081</td>\n",
       "      <td>This think has worked out great.Had a diff. br...</td>\n",
       "      <td>1</td>\n",
       "    </tr>\n",
       "    <tr>\n",
       "      <th>4</th>\n",
       "      <td>0.038</td>\n",
       "      <td>0.835</td>\n",
       "      <td>0.127</td>\n",
       "      <td>0.7087</td>\n",
       "      <td>Bought it with Retail Packaging, arrived legit...</td>\n",
       "      <td>1</td>\n",
       "    </tr>\n",
       "    <tr>\n",
       "      <th>...</th>\n",
       "      <td>...</td>\n",
       "      <td>...</td>\n",
       "      <td>...</td>\n",
       "      <td>...</td>\n",
       "      <td>...</td>\n",
       "      <td>...</td>\n",
       "    </tr>\n",
       "    <tr>\n",
       "      <th>4910</th>\n",
       "      <td>0.091</td>\n",
       "      <td>0.817</td>\n",
       "      <td>0.092</td>\n",
       "      <td>0.0018</td>\n",
       "      <td>I bought this Sandisk 16GB Class 10 to use wit...</td>\n",
       "      <td>0</td>\n",
       "    </tr>\n",
       "    <tr>\n",
       "      <th>4911</th>\n",
       "      <td>0.000</td>\n",
       "      <td>0.939</td>\n",
       "      <td>0.061</td>\n",
       "      <td>0.1761</td>\n",
       "      <td>Used this for extending the capabilities of my...</td>\n",
       "      <td>0</td>\n",
       "    </tr>\n",
       "    <tr>\n",
       "      <th>4912</th>\n",
       "      <td>0.000</td>\n",
       "      <td>0.828</td>\n",
       "      <td>0.172</td>\n",
       "      <td>0.8588</td>\n",
       "      <td>Great card that is very fast and reliable. It ...</td>\n",
       "      <td>1</td>\n",
       "    </tr>\n",
       "    <tr>\n",
       "      <th>4913</th>\n",
       "      <td>0.000</td>\n",
       "      <td>0.802</td>\n",
       "      <td>0.198</td>\n",
       "      <td>0.4939</td>\n",
       "      <td>Good amount of space for the stuff I want to d...</td>\n",
       "      <td>1</td>\n",
       "    </tr>\n",
       "    <tr>\n",
       "      <th>4914</th>\n",
       "      <td>0.049</td>\n",
       "      <td>0.693</td>\n",
       "      <td>0.258</td>\n",
       "      <td>0.8923</td>\n",
       "      <td>I've heard bad things about this 64gb Micro SD...</td>\n",
       "      <td>1</td>\n",
       "    </tr>\n",
       "  </tbody>\n",
       "</table>\n",
       "<p>4915 rows × 6 columns</p>\n",
       "</div>"
      ],
      "text/plain": [
       "        neg    neu    pos  compound  \\\n",
       "0     0.688  0.312  0.000   -0.2960   \n",
       "1     0.075  0.925  0.000   -0.2960   \n",
       "2     0.077  0.923  0.000   -0.3089   \n",
       "3     0.000  0.909  0.091    0.7081   \n",
       "4     0.038  0.835  0.127    0.7087   \n",
       "...     ...    ...    ...       ...   \n",
       "4910  0.091  0.817  0.092    0.0018   \n",
       "4911  0.000  0.939  0.061    0.1761   \n",
       "4912  0.000  0.828  0.172    0.8588   \n",
       "4913  0.000  0.802  0.198    0.4939   \n",
       "4914  0.049  0.693  0.258    0.8923   \n",
       "\n",
       "                                                    lst  label  \n",
       "0                                            No issues.     -1  \n",
       "1     Purchased this for my device, it worked as adv...     -1  \n",
       "2     it works as expected. I should have sprung for...     -1  \n",
       "3     This think has worked out great.Had a diff. br...      1  \n",
       "4     Bought it with Retail Packaging, arrived legit...      1  \n",
       "...                                                 ...    ...  \n",
       "4910  I bought this Sandisk 16GB Class 10 to use wit...      0  \n",
       "4911  Used this for extending the capabilities of my...      0  \n",
       "4912  Great card that is very fast and reliable. It ...      1  \n",
       "4913  Good amount of space for the stuff I want to d...      1  \n",
       "4914  I've heard bad things about this 64gb Micro SD...      1  \n",
       "\n",
       "[4915 rows x 6 columns]"
      ]
     },
     "execution_count": 11,
     "metadata": {},
     "output_type": "execute_result"
    }
   ],
   "source": [
    "#Calls the \"creates_dataframe\" function, and then stores it into a variable so we can use it throughout the code\n",
    "#Please, change the name of the csv file to your csv file added to Jupyter Notebooks, and the name of the column \n",
    "#you would like to add afterwards\n",
    "\n",
    "df = creates_dataframe('amazon_reviews.csv', 'reviewText')\n",
    "\n",
    "#Displays the dataframe \n",
    "df"
   ]
  },
  {
   "cell_type": "code",
   "execution_count": 12,
   "id": "67018734",
   "metadata": {
    "scrolled": false
   },
   "outputs": [
    {
     "data": {
      "text/plain": [
       " 1    3522\n",
       "-1     714\n",
       " 0     679\n",
       "Name: label, dtype: int64"
      ]
     },
     "execution_count": 12,
     "metadata": {},
     "output_type": "execute_result"
    }
   ],
   "source": [
    "#Calls the function \"counts\"\n",
    "counts(df, 'label')"
   ]
  },
  {
   "cell_type": "code",
   "execution_count": 13,
   "id": "7468ea78",
   "metadata": {
    "scrolled": true
   },
   "outputs": [
    {
     "data": {
      "text/plain": [
       " 1    71.658189\n",
       "-1    14.526958\n",
       " 0    13.814852\n",
       "Name: label, dtype: float64"
      ]
     },
     "execution_count": 13,
     "metadata": {},
     "output_type": "execute_result"
    }
   ],
   "source": [
    "#Calls the function \"percentage\"\n",
    "percentage(df, 'label')"
   ]
  },
  {
   "cell_type": "code",
   "execution_count": 14,
   "id": "6f151a1b",
   "metadata": {
    "scrolled": true
   },
   "outputs": [
    {
     "data": {
      "image/png": "[encoded data removed]",
      "text/plain": [
       "<Figure size 800x800 with 1 Axes>"
      ]
     },
     "metadata": {},
     "output_type": "display_data"
    },
    {
     "data": {
      "text/plain": [
       "<Figure size 640x480 with 0 Axes>"
      ]
     },
     "metadata": {},
     "output_type": "display_data"
    }
   ],
   "source": [
    "#Calls the function \"bar_graph\", please change the second parameter to the name of your desired title\n",
    "graph = bar_graph(df,'Amazon Reviews Sentiment Analysis')\n",
    "\n",
    "#Saves the graph in Jupyter Notebook as a .png\n",
    "plt.savefig('graph.png')"
   ]
  },
  {
   "cell_type": "code",
   "execution_count": 15,
   "id": "8446ad8b",
   "metadata": {},
   "outputs": [
    {
     "name": "stdout",
     "output_type": "stream",
     "text": [
      "-This think has worked out great.Had a diff. bran 64gb card and if went south after 3 months.This one has held up pretty well since I had my S3, now on my Note3.*** update 3/21/14I've had this for a few months and have had ZERO issue's since it was transferred from my S3 to my Note3 and into a note2. This card is reliable and solid!Cheers!\n",
      "-Bought it with Retail Packaging, arrived legit, in a orange envelope, english version not asian like the picture shows. arrived quickly, bought a 32 and 16 both retail packaging for my htc one sv and Lg Optimus, both cards in working order, probably best price you'll get for a nice sd card\n",
      "-I have it in my phone and it never skips a beat. File transfers are speedy and have not had any corruption issues or memory fade issues as I would expect from the Sandisk brand. Great card to own. Why entrust your precious files to a slightly cheaper piece of crap? If you lose everything can you forgive yourself for not spending the extra couple bucks on a trusted product that goes through good QA?\n",
      "-It's hard to believe how affordable digital has become. 32 GB in a device one quarter the sie of postage stamp would have been science fiction less than a generation ago.I picked this up for portable music when I didn't want to schlep (or risk) a phone or iPod. Works great with all SD card readers.Select with confidence.\n",
      "-in my galaxy s4, super fast card, and am totally happy, not happy having to still type to fill the required words though\n"
     ]
    }
   ],
   "source": [
    "#Calls the function print_top_comments\n",
    "#Add \"df\", the name of the column that stores the values of the sentiments, the name of the column that stores the \n",
    "#comments, the value you would like to see (-1,0, or 1), and how many comments you would like to see. \n",
    "print_top_comments(df,'label','lst', 1, 5)"
   ]
  },
  {
   "cell_type": "code",
   "execution_count": 16,
   "id": "ad4a804a",
   "metadata": {},
   "outputs": [],
   "source": [
    "#Calls the function save_top_comments_to_file\n",
    "#Add \"df\", the name of the column that stores the values of the sentiments, the name of the column that stores the \n",
    "#comments, the value you would like to see (-1,0, or 1),how many comments you would like to see, and the name for\n",
    "#your file\n",
    "save_top_comments_to_file(df,'label','lst', 1, 5, 'top_comments.txt')\n"
   ]
  },
  {
   "cell_type": "markdown",
   "id": "eb2073d0",
   "metadata": {},
   "source": [
    "# Adding Context to Sentiment Analysis"
   ]
  },
  {
   "cell_type": "markdown",
   "id": "5bd683f3",
   "metadata": {},
   "source": [
    "First, we were only analyzing the answers to the questions, in this way, the sentiment analyzer has less nuance, as it does not have the context. Now, we will add the context to the answers to see if there is a difference in results."
   ]
  },
  {
   "cell_type": "code",
   "execution_count": 17,
   "id": "39676a2d",
   "metadata": {},
   "outputs": [],
   "source": [
    "def creates_dataframe_with_context(file, column_name, question):\n",
    "     \n",
    "    #Creates a list. A list can be created by writing the name of a variable (any name can be used)\n",
    "    #We will store our csv file here, each row of the csv file will be read and stored in a different\n",
    "    #component of the list.  \n",
    "    \n",
    "    lst = []  \n",
    "\n",
    "     #Opens csv file, reads the file, and then attaches each row from the desired column, in this case \"reviewText.\"\n",
    "\n",
    "    with open(file, encoding = 'utf8') as csvfile:\n",
    "        reader = csv.DictReader(csvfile)\n",
    "        for element in reader:\n",
    "            lst.append(element[column_name])\n",
    "\n",
    "    # Initializes sentiment analyzer\n",
    "    sia = SIA()\n",
    "\n",
    "    # Creates a list to store results\n",
    "    results = []\n",
    "\n",
    "    # Iterate over each element in 'lst'\n",
    "    for text in lst:\n",
    "        # Adds the question with the text\n",
    "        text_with_question = question + ' ' + text\n",
    "        # Applies sentiment analysis on the added text\n",
    "        pol_score = sia.polarity_scores(text_with_question)\n",
    "        # Adds original text to the result dictionary\n",
    "        pol_score['text'] = text_with_question  \n",
    "        #Adds to the \"results\" list \n",
    "        results.append(pol_score)\n",
    "        \n",
    "    #Creates a dataframe\n",
    "    df = pd.DataFrame.from_records(results)\n",
    "\n",
    "    #Creates a column called \"label,\" and then gives each different scores\n",
    "\n",
    "    #First, gives all the value 0 (neutral)\n",
    "    df['label'] = 0\n",
    "\n",
    "    #Then if the compoud is 0.2 or more, considers the label as positive (1)\n",
    "    df.loc[df['compound']> 0.2, 'label'] = 1\n",
    "\n",
    "    #If the compound is less than -0.2, considers the label as negative (-1)\n",
    "    df.loc[df['compound']<-0.2, 'label']= -1\n",
    "    \n",
    "    #Returns complete dataframe with polarity scores\n",
    "    return df"
   ]
  },
  {
   "cell_type": "code",
   "execution_count": 18,
   "id": "e6019062",
   "metadata": {
    "scrolled": false
   },
   "outputs": [
    {
     "data": {
      "text/html": [
       "<div>\n",
       "<style scoped>\n",
       "    .dataframe tbody tr th:only-of-type {\n",
       "        vertical-align: middle;\n",
       "    }\n",
       "\n",
       "    .dataframe tbody tr th {\n",
       "        vertical-align: top;\n",
       "    }\n",
       "\n",
       "    .dataframe thead th {\n",
       "        text-align: right;\n",
       "    }\n",
       "</style>\n",
       "<table border=\"1\" class=\"dataframe\">\n",
       "  <thead>\n",
       "    <tr style=\"text-align: right;\">\n",
       "      <th></th>\n",
       "      <th>neg</th>\n",
       "      <th>neu</th>\n",
       "      <th>pos</th>\n",
       "      <th>compound</th>\n",
       "      <th>text</th>\n",
       "      <th>label</th>\n",
       "    </tr>\n",
       "  </thead>\n",
       "  <tbody>\n",
       "    <tr>\n",
       "      <th>0</th>\n",
       "      <td>0.239</td>\n",
       "      <td>0.761</td>\n",
       "      <td>0.000</td>\n",
       "      <td>-0.2960</td>\n",
       "      <td>How would you review our product? No issues.</td>\n",
       "      <td>-1</td>\n",
       "    </tr>\n",
       "    <tr>\n",
       "      <th>1</th>\n",
       "      <td>0.062</td>\n",
       "      <td>0.937</td>\n",
       "      <td>0.000</td>\n",
       "      <td>-0.2960</td>\n",
       "      <td>How would you review our product? Purchased th...</td>\n",
       "      <td>-1</td>\n",
       "    </tr>\n",
       "    <tr>\n",
       "      <th>2</th>\n",
       "      <td>0.064</td>\n",
       "      <td>0.936</td>\n",
       "      <td>0.000</td>\n",
       "      <td>-0.3089</td>\n",
       "      <td>How would you review our product? it works as ...</td>\n",
       "      <td>-1</td>\n",
       "    </tr>\n",
       "    <tr>\n",
       "      <th>3</th>\n",
       "      <td>0.000</td>\n",
       "      <td>0.917</td>\n",
       "      <td>0.083</td>\n",
       "      <td>0.7081</td>\n",
       "      <td>How would you review our product? This think h...</td>\n",
       "      <td>1</td>\n",
       "    </tr>\n",
       "    <tr>\n",
       "      <th>4</th>\n",
       "      <td>0.035</td>\n",
       "      <td>0.851</td>\n",
       "      <td>0.115</td>\n",
       "      <td>0.7087</td>\n",
       "      <td>How would you review our product? Bought it wi...</td>\n",
       "      <td>1</td>\n",
       "    </tr>\n",
       "    <tr>\n",
       "      <th>...</th>\n",
       "      <td>...</td>\n",
       "      <td>...</td>\n",
       "      <td>...</td>\n",
       "      <td>...</td>\n",
       "      <td>...</td>\n",
       "      <td>...</td>\n",
       "    </tr>\n",
       "    <tr>\n",
       "      <th>4910</th>\n",
       "      <td>0.083</td>\n",
       "      <td>0.833</td>\n",
       "      <td>0.083</td>\n",
       "      <td>0.0018</td>\n",
       "      <td>How would you review our product? I bought thi...</td>\n",
       "      <td>0</td>\n",
       "    </tr>\n",
       "    <tr>\n",
       "      <th>4911</th>\n",
       "      <td>0.000</td>\n",
       "      <td>0.950</td>\n",
       "      <td>0.050</td>\n",
       "      <td>0.1761</td>\n",
       "      <td>How would you review our product? Used this fo...</td>\n",
       "      <td>0</td>\n",
       "    </tr>\n",
       "    <tr>\n",
       "      <th>4912</th>\n",
       "      <td>0.000</td>\n",
       "      <td>0.847</td>\n",
       "      <td>0.153</td>\n",
       "      <td>0.8588</td>\n",
       "      <td>How would you review our product? Great card t...</td>\n",
       "      <td>1</td>\n",
       "    </tr>\n",
       "    <tr>\n",
       "      <th>4913</th>\n",
       "      <td>0.000</td>\n",
       "      <td>0.835</td>\n",
       "      <td>0.165</td>\n",
       "      <td>0.5514</td>\n",
       "      <td>How would you review our product? Good amount ...</td>\n",
       "      <td>1</td>\n",
       "    </tr>\n",
       "    <tr>\n",
       "      <th>4914</th>\n",
       "      <td>0.043</td>\n",
       "      <td>0.729</td>\n",
       "      <td>0.228</td>\n",
       "      <td>0.8923</td>\n",
       "      <td>How would you review our product? I've heard b...</td>\n",
       "      <td>1</td>\n",
       "    </tr>\n",
       "  </tbody>\n",
       "</table>\n",
       "<p>4915 rows × 6 columns</p>\n",
       "</div>"
      ],
      "text/plain": [
       "        neg    neu    pos  compound  \\\n",
       "0     0.239  0.761  0.000   -0.2960   \n",
       "1     0.062  0.937  0.000   -0.2960   \n",
       "2     0.064  0.936  0.000   -0.3089   \n",
       "3     0.000  0.917  0.083    0.7081   \n",
       "4     0.035  0.851  0.115    0.7087   \n",
       "...     ...    ...    ...       ...   \n",
       "4910  0.083  0.833  0.083    0.0018   \n",
       "4911  0.000  0.950  0.050    0.1761   \n",
       "4912  0.000  0.847  0.153    0.8588   \n",
       "4913  0.000  0.835  0.165    0.5514   \n",
       "4914  0.043  0.729  0.228    0.8923   \n",
       "\n",
       "                                                   text  label  \n",
       "0          How would you review our product? No issues.     -1  \n",
       "1     How would you review our product? Purchased th...     -1  \n",
       "2     How would you review our product? it works as ...     -1  \n",
       "3     How would you review our product? This think h...      1  \n",
       "4     How would you review our product? Bought it wi...      1  \n",
       "...                                                 ...    ...  \n",
       "4910  How would you review our product? I bought thi...      0  \n",
       "4911  How would you review our product? Used this fo...      0  \n",
       "4912  How would you review our product? Great card t...      1  \n",
       "4913  How would you review our product? Good amount ...      1  \n",
       "4914  How would you review our product? I've heard b...      1  \n",
       "\n",
       "[4915 rows x 6 columns]"
      ]
     },
     "execution_count": 18,
     "metadata": {},
     "output_type": "execute_result"
    }
   ],
   "source": [
    "#Calls the \"creates_dataframe\" function, and then stores it into a variable so we can use it throughout the code\n",
    "#Please, change the name of the csv file to your csv file added to Jupyter Notebooks, the name of the column \n",
    "#you would like to add afterwards, and the question (context) that will be before the question.\n",
    "\n",
    "df_context = creates_dataframe_with_context('amazon_reviews.csv', 'reviewText','How would you review our product?')\n",
    "\n",
    "#Displays dataframe\n",
    "\n",
    "df_context"
   ]
  },
  {
   "cell_type": "markdown",
   "id": "e7ebb12a",
   "metadata": {},
   "source": [
    "Now, let's compare the results with the ones with no context. "
   ]
  },
  {
   "cell_type": "code",
   "execution_count": 19,
   "id": "f42a7486",
   "metadata": {},
   "outputs": [
    {
     "data": {
      "text/plain": [
       " 1    71.658189\n",
       "-1    14.526958\n",
       " 0    13.814852\n",
       "Name: label, dtype: float64"
      ]
     },
     "execution_count": 19,
     "metadata": {},
     "output_type": "execute_result"
    }
   ],
   "source": [
    "#Calls the function \"percentage\" for the regular dataframe\n",
    "percentage(df, 'label')"
   ]
  },
  {
   "cell_type": "code",
   "execution_count": 20,
   "id": "aab3e16d",
   "metadata": {},
   "outputs": [
    {
     "data": {
      "text/plain": [
       " 1    71.820956\n",
       "-1    14.608342\n",
       " 0    13.570702\n",
       "Name: label, dtype: float64"
      ]
     },
     "execution_count": 20,
     "metadata": {},
     "output_type": "execute_result"
    }
   ],
   "source": [
    "#Calls the function \"percentage\" for the dataframe with context\n",
    "percentage(df_context, 'label')"
   ]
  },
  {
   "cell_type": "markdown",
   "id": "f7fcfbd7",
   "metadata": {},
   "source": [
    "We can see a small difference in the results, there are less neutral results in the code with context than in the regular dataframe. This might mean that with context, the sentiment analyzer is better in finding more polar results."
   ]
  },
  {
   "cell_type": "code",
   "execution_count": null,
   "id": "7d6aa185",
   "metadata": {},
   "outputs": [],
   "source": []
  }
 ],
 "metadata": {
  "kernelspec": {
   "display_name": ".venv",
   "language": "python",
   "name": ".venv"
  },
  "language_info": {
   "codemirror_mode": {
    "name": "ipython",
    "version": 3
   },
   "file_extension": ".py",
   "mimetype": "text/x-python",
   "name": "python",
   "nbconvert_exporter": "python",
   "pygments_lexer": "ipython3",
   "version": "3.11.4"
  }
 },
 "nbformat": 4,
 "nbformat_minor": 5
}
